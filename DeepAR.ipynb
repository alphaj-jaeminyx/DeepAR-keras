{
  "nbformat": 4,
  "nbformat_minor": 0,
  "metadata": {
    "colab": {
      "name": "DeepAR.ipynb",
      "provenance": [],
      "collapsed_sections": []
    },
    "kernelspec": {
      "name": "python3",
      "display_name": "Python 3"
    },
    "language_info": {
      "name": "python"
    }
  },
  "cells": [
    {
      "cell_type": "code",
      "metadata": {
        "id": "T4VEc-1Ei3za"
      },
      "source": [
        "import tensorflow as tf\n",
        "import tensorflow_probability as tfp\n",
        "from keras.layers import Input, Dense, LSTM, Dropout, TimeDistributed, Lambda\n",
        "\n",
        "# LSTM 기반의 가우시안 분포를 추정하는 Simple DeepAR\n",
        "# 원리만 알면 뭐든 만들 수 있다.\n",
        "\n",
        "# 챌린지\n",
        "# 1. Seq2Seq로 변환.\n",
        "# 2. LSTM이 아닌 다른 모델의 도입 (CNN-LSTM, GRU)\n",
        "# 3. 분포 함수를 바꿔보기 => 분포 추정 계수를 mu, sigma가 아니고 다른 값으로 변경이 필요.\n",
        "# 2주 정도 시간 들여서 해보기. (6주차에 솔루션 업로드)\n",
        "# 4. 분포 함수 자체를 딥러닝으로 모델링 하기.  (5,6주차 때 다룰 예정, GAN/AutoEncoder)\n",
        "\n",
        "class DeepAR(tf.keras.models.Model):\n",
        "    def __init__(self, lstm_units, n_steps_in, n_steps_out, n_features):\n",
        "        super().__init__()\n",
        "\n",
        "        self.lstm = tf.keras.layers.LSTM(lstm_units, return_sequences=True, return_state=True, input_shape=(n_steps_in, n_features))\n",
        "        self.dense_mu = tf.keras.layers.Dense(1) # 정규분포 (가우시안 분포)의 평균\n",
        "        self.dense_sigma = tf.keras.layers.Dense(1, activation='softplus') # 정규분포 (가우시안 분포)의 시그마\n",
        "\n",
        "    def call(self, inputs, initial_state=None):\n",
        "        outputs, state_h, state_c = self.lstm(inputs, initial_state=initial_state)\n",
        "\n",
        "        mu = self.dense_mu(outputs) # 정규분포의 평균을 추정하는 레이어\n",
        "        sigma = self.dense_sigma(outputs) # 정규분포의 표준편차를 추정하는 레이어\n",
        "        state = [state_h, state_c]\n",
        "\n",
        "        return [mu, sigma, state]\n",
        "\n",
        "# 모델의 로스를 계산하는 부분,\n",
        "def log_gaussian_loss(mu, sigma, y_true):\n",
        "    \"\"\"\n",
        "    Gaussian loss function\n",
        "    \"\"\"\n",
        "                              # 모델링된 mu와 sigma를 가지고 분포 생성\n",
        "                                                                    # y_true=실제값과 분포에서 샘플링된 값의 차이를 구함.\n",
        "    return -tf.reduce_sum(tfp.distributions.Normal(loc=mu, scale=sigma).log_prob(y_true))\n"
      ],
      "execution_count": null,
      "outputs": []
    },
    {
      "cell_type": "code",
      "metadata": {
        "id": "mro7BoppojRj"
      },
      "source": [
        "import pandas as pd\n",
        "from datetime import datetime, timedelta\n",
        "\n",
        "df = pd.read_csv('/content/drive/MyDrive/시계열_교안/3주차/Gemini_ETHUSD_d.csv',  skiprows=1, parse_dates=True, index_col='Date')\n",
        "df = df.sort_index().drop(['Symbol','Unix Timestamp'] , axis=1)\n",
        "\n",
        "test_cutoff_date = df.index.max() - timedelta(days=90)\n",
        "\n",
        "df_test = df[df.index > test_cutoff_date]['Close']\n",
        "df_train = df[df.index <= test_cutoff_date]['Close']\n",
        "\n",
        "\n",
        "############# 데이터를 정규화\n",
        "training_mean = df_train.mean() # train의 평균\n",
        "training_std = df_train.std() # train의 편차\n",
        "df_training_value = (df_train - training_mean) / training_std # 데이터 = (원본 - 평균) / 편차로 정규화\n",
        "\n",
        "test_mean = df_test.mean() # test의 평균\n",
        "test_std = df_test.std() # test의 편차\n",
        "df_test_value = (df_test - test_mean) / test_std # 데이터 = (원본 - 평균) / 편차로 정규화\n",
        "\n",
        "\n",
        "##############\n",
        "\n",
        "from numpy import array\n",
        "\n",
        "def split_sequence(sequence, n_steps_in, n_steps_out):\n",
        "\tX, y = list(), list()\n",
        "\tfor i in range(len(sequence)):\n",
        "\t\tend_ix = i + n_steps_in\n",
        "\t\tout_end_ix = end_ix + n_steps_out\n",
        "\t\tif out_end_ix > len(sequence):\n",
        "\t\t\tbreak\n",
        "\t\tseq_x, seq_y = sequence[i:end_ix], sequence[end_ix:out_end_ix]\n",
        "\t\tX.append(seq_x)\n",
        "\t\ty.append(seq_y)\n",
        "\treturn array(X), array(y)\n",
        "\n",
        "raw_seq = df_training_value\n",
        "n_steps_in = 30\n",
        "n_steps_out = 1\n",
        "\n",
        "X, y = split_sequence(raw_seq, n_steps_in, n_steps_out)\n",
        "\n",
        "n_features = 1\n",
        "X = X.reshape((X.shape[0], X.shape[1], n_features))\n",
        "y = y.reshape((y.shape[0], y.shape[1], n_features))\n",
        "\n",
        "test_raw_seq = df_test_value\n",
        "\n",
        "test_X, test_y = split_sequence(test_raw_seq, n_steps_in, n_steps_out)\n",
        "test_X = test_X.reshape((test_X.shape[0], test_X.shape[1], n_features))"
      ],
      "execution_count": null,
      "outputs": []
    },
    {
      "cell_type": "code",
      "metadata": {
        "colab": {
          "base_uri": "https://localhost:8080/"
        },
        "id": "zcN0VUAvjAai",
        "outputId": "54c54c97-3433-408c-d9af-447d4bdfca44"
      },
      "source": [
        "LSTM_UNITS = 128\n",
        "EPOCHS = 100\n",
        "\n",
        "model = DeepAR(LSTM_UNITS, n_steps_in, n_steps_out, n_features)\n",
        "\n",
        "# optmizer\n",
        "optimizer = tf.keras.optimizers.Adam()\n",
        "\n",
        "\n",
        "# metric\n",
        "rmse = tf.keras.metrics.RootMeanSquaredError()\n",
        "\n",
        "def train_step(x, y):\n",
        "    with tf.GradientTape() as tape:\n",
        "        mu, sigma, _ = model(x)\n",
        "        loss = log_gaussian_loss(mu, sigma, y) # Forward Learning\n",
        "    # backword\n",
        "    grads = tape.gradient(loss, model.trainable_variables)\n",
        "    optimizer.apply_gradients(zip(grads, model.trainable_variables))\n",
        "    rmse(y, mu)\n",
        "\n",
        "for epoch in range(EPOCHS):\n",
        "    train_step(X, y)\n",
        "    print('Epoch %d, RMSE %.4f' % (epoch + 1, rmse.result().numpy()))\n",
        "    rmse.reset_states()"
      ],
      "execution_count": null,
      "outputs": [
        {
          "output_type": "stream",
          "text": [
            "Epoch 1, RMSE 0.9347\n",
            "Epoch 2, RMSE 0.9026\n",
            "Epoch 3, RMSE 0.8635\n",
            "Epoch 4, RMSE 0.8220\n",
            "Epoch 5, RMSE 0.7784\n",
            "Epoch 6, RMSE 0.7333\n",
            "Epoch 7, RMSE 0.6880\n",
            "Epoch 8, RMSE 0.6443\n",
            "Epoch 9, RMSE 0.6048\n",
            "Epoch 10, RMSE 0.5726\n",
            "Epoch 11, RMSE 0.5506\n",
            "Epoch 12, RMSE 0.5405\n",
            "Epoch 13, RMSE 0.5407\n",
            "Epoch 14, RMSE 0.5457\n",
            "Epoch 15, RMSE 0.5484\n",
            "Epoch 16, RMSE 0.5452\n",
            "Epoch 17, RMSE 0.5368\n",
            "Epoch 18, RMSE 0.5266\n",
            "Epoch 19, RMSE 0.5174\n",
            "Epoch 20, RMSE 0.5108\n",
            "Epoch 21, RMSE 0.5067\n",
            "Epoch 22, RMSE 0.5040\n",
            "Epoch 23, RMSE 0.5015\n",
            "Epoch 24, RMSE 0.4996\n",
            "Epoch 25, RMSE 0.5014\n",
            "Epoch 26, RMSE 0.5038\n",
            "Epoch 27, RMSE 0.4958\n",
            "Epoch 28, RMSE 0.4936\n",
            "Epoch 29, RMSE 0.4919\n",
            "Epoch 30, RMSE 0.4933\n",
            "Epoch 31, RMSE 0.4901\n",
            "Epoch 32, RMSE 0.4880\n",
            "Epoch 33, RMSE 0.4880\n",
            "Epoch 34, RMSE 0.4873\n",
            "Epoch 35, RMSE 0.4874\n",
            "Epoch 36, RMSE 0.4875\n",
            "Epoch 37, RMSE 0.4875\n",
            "Epoch 38, RMSE 0.4879\n",
            "Epoch 39, RMSE 0.4876\n",
            "Epoch 40, RMSE 0.4886\n",
            "Epoch 41, RMSE 0.4865\n",
            "Epoch 42, RMSE 0.4859\n",
            "Epoch 43, RMSE 0.4878\n",
            "Epoch 44, RMSE 0.4895\n",
            "Epoch 45, RMSE 0.4846\n",
            "Epoch 46, RMSE 0.4780\n",
            "Epoch 47, RMSE 0.4740\n",
            "Epoch 48, RMSE 0.4732\n",
            "Epoch 49, RMSE 0.4724\n",
            "Epoch 50, RMSE 0.4697\n",
            "Epoch 51, RMSE 0.4669\n",
            "Epoch 52, RMSE 0.4650\n",
            "Epoch 53, RMSE 0.4641\n",
            "Epoch 54, RMSE 0.4633\n",
            "Epoch 55, RMSE 0.4622\n",
            "Epoch 56, RMSE 0.4607\n",
            "Epoch 57, RMSE 0.4588\n",
            "Epoch 58, RMSE 0.4570\n",
            "Epoch 59, RMSE 0.4559\n",
            "Epoch 60, RMSE 0.4556\n",
            "Epoch 61, RMSE 0.4551\n",
            "Epoch 62, RMSE 0.4534\n",
            "Epoch 63, RMSE 0.4523\n",
            "Epoch 64, RMSE 0.4518\n",
            "Epoch 65, RMSE 0.4514\n",
            "Epoch 66, RMSE 0.4517\n",
            "Epoch 67, RMSE 0.4502\n",
            "Epoch 68, RMSE 0.4498\n",
            "Epoch 69, RMSE 0.4497\n",
            "Epoch 70, RMSE 0.4487\n",
            "Epoch 71, RMSE 0.4479\n",
            "Epoch 72, RMSE 0.4466\n",
            "Epoch 73, RMSE 0.4455\n",
            "Epoch 74, RMSE 0.4441\n",
            "Epoch 75, RMSE 0.4431\n",
            "Epoch 76, RMSE 0.4423\n",
            "Epoch 77, RMSE 0.4417\n",
            "Epoch 78, RMSE 0.4416\n",
            "Epoch 79, RMSE 0.4418\n",
            "Epoch 80, RMSE 0.4423\n",
            "Epoch 81, RMSE 0.4424\n",
            "Epoch 82, RMSE 0.4426\n",
            "Epoch 83, RMSE 0.4428\n",
            "Epoch 84, RMSE 0.4425\n",
            "Epoch 85, RMSE 0.4420\n",
            "Epoch 86, RMSE 0.4414\n",
            "Epoch 87, RMSE 0.4406\n",
            "Epoch 88, RMSE 0.4397\n",
            "Epoch 89, RMSE 0.4388\n",
            "Epoch 90, RMSE 0.4381\n",
            "Epoch 91, RMSE 0.4372\n",
            "Epoch 92, RMSE 0.4365\n",
            "Epoch 93, RMSE 0.4360\n",
            "Epoch 94, RMSE 0.4354\n",
            "Epoch 95, RMSE 0.4350\n",
            "Epoch 96, RMSE 0.4346\n",
            "Epoch 97, RMSE 0.4342\n",
            "Epoch 98, RMSE 0.4338\n",
            "Epoch 99, RMSE 0.4334\n",
            "Epoch 100, RMSE 0.4330\n"
          ],
          "name": "stdout"
        }
      ]
    },
    {
      "cell_type": "code",
      "metadata": {
        "id": "FC9GQWWQkKId"
      },
      "source": [
        "# 샘플링된 값들을 예측값으로 반환.\n",
        "pred = model.predict(test_X)"
      ],
      "execution_count": null,
      "outputs": []
    },
    {
      "cell_type": "code",
      "metadata": {
        "colab": {
          "base_uri": "https://localhost:8080/"
        },
        "id": "1vsooS_FSPUa",
        "outputId": "8145b93a-c413-46fe-e2af-e91f43d81490"
      },
      "source": [
        "pred[0].shape\n",
        "\n",
        "# median => 실제 예측값.\n",
        "# 5% 퍼센타일 => lower bound\n",
        "# 95% 퍼센타일 => upper bound"
      ],
      "execution_count": null,
      "outputs": [
        {
          "output_type": "execute_result",
          "data": {
            "text/plain": [
              "(60, 30, 1)"
            ]
          },
          "metadata": {
            "tags": []
          },
          "execution_count": 11
        }
      ]
    },
    {
      "cell_type": "code",
      "metadata": {
        "colab": {
          "base_uri": "https://localhost:8080/"
        },
        "id": "YkVM1b9nry45",
        "outputId": "03f9859c-f199-4d20-9b6c-df6399865fae"
      },
      "source": [
        "test_y.shape # 라벨의 shape"
      ],
      "execution_count": null,
      "outputs": [
        {
          "output_type": "execute_result",
          "data": {
            "text/plain": [
              "(60, 1)"
            ]
          },
          "metadata": {
            "tags": []
          },
          "execution_count": 7
        }
      ]
    },
    {
      "cell_type": "code",
      "metadata": {
        "colab": {
          "base_uri": "https://localhost:8080/"
        },
        "id": "FMh6UH9HSMVy",
        "outputId": "c6b91c56-0a44-44e8-e72c-30d085a89f3a"
      },
      "source": [
        "test_y"
      ],
      "execution_count": null,
      "outputs": [
        {
          "output_type": "execute_result",
          "data": {
            "text/plain": [
              "array([[-1.16902354],\n",
              "       [-1.76620325],\n",
              "       [-0.98994393],\n",
              "       [-0.97656869],\n",
              "       [-0.92306773],\n",
              "       [-0.84355935],\n",
              "       [-0.92405848],\n",
              "       [-0.78807687],\n",
              "       [-0.78708611],\n",
              "       [-0.94164445],\n",
              "       [-1.13013626],\n",
              "       [-1.11998099],\n",
              "       [-0.96245038],\n",
              "       [-0.93619528],\n",
              "       [-1.25571491],\n",
              "       [-1.22277219],\n",
              "       [-0.9882101 ],\n",
              "       [-0.64218768],\n",
              "       [-0.50001382],\n",
              "       [-0.42001007],\n",
              "       [-0.11312261],\n",
              "       [-0.25752567],\n",
              "       [-0.29616525],\n",
              "       [-0.33232794],\n",
              "       [-0.63872002],\n",
              "       [-0.56193623],\n",
              "       [-0.32762184],\n",
              "       [-0.29121146],\n",
              "       [-0.55723013],\n",
              "       [ 0.00527304],\n",
              "       [ 0.579913  ],\n",
              "       [ 0.45631587],\n",
              "       [ 0.52789817],\n",
              "       [ 0.37086294],\n",
              "       [ 0.05580172],\n",
              "       [ 0.31191281],\n",
              "       [-0.06135548],\n",
              "       [-0.09578434],\n",
              "       [-0.20996926],\n",
              "       [-0.10841651],\n",
              "       [ 0.13605317],\n",
              "       [-0.17876036],\n",
              "       [-0.07373996],\n",
              "       [ 0.28144698],\n",
              "       [ 0.6371293 ],\n",
              "       [ 1.61228341],\n",
              "       [ 1.09560282],\n",
              "       [ 1.56547007],\n",
              "       [ 1.31629429],\n",
              "       [ 1.47704487],\n",
              "       [ 1.79433529],\n",
              "       [ 1.79755526],\n",
              "       [ 2.11905641],\n",
              "       [ 1.72944061],\n",
              "       [ 1.42676387],\n",
              "       [ 1.71804688],\n",
              "       [ 2.2649456 ],\n",
              "       [ 2.18271264],\n",
              "       [ 1.99867924],\n",
              "       [ 2.02022824]])"
            ]
          },
          "metadata": {
            "tags": []
          },
          "execution_count": 9
        }
      ]
    },
    {
      "cell_type": "code",
      "metadata": {
        "id": "O48vZJy1ruNw"
      },
      "source": [
        "import numpy as np\n",
        "lower_bound = []\n",
        "upper_bound = []\n",
        "median = []\n",
        "for step_pred in pred[0]:\n",
        "                           # 정규화된 값을 원래대로.\n",
        "  lb = (np.quantile(step_pred, 0.05) + test_mean) * test_std\n",
        "  ub = (np.quantile(step_pred, 0.95) + test_mean) * test_std\n",
        "  med = (np.quantile(step_pred, 0.5) + test_mean) * test_std\n",
        "  lower_bound.append(lb)\n",
        "  upper_bound.append(ub)\n",
        "  median.append(med)"
      ],
      "execution_count": null,
      "outputs": []
    },
    {
      "cell_type": "code",
      "metadata": {
        "colab": {
          "base_uri": "https://localhost:8080/"
        },
        "id": "vvf13JzlVtcp",
        "outputId": "68bde238-4a52-494d-c6de-7cd6f825cd7f"
      },
      "source": [
        "lower_bound"
      ],
      "execution_count": null,
      "outputs": [
        {
          "output_type": "execute_result",
          "data": {
            "text/plain": [
              "[15763.174462812996,\n",
              " 15763.21162595064,\n",
              " 15763.306899069526,\n",
              " 15763.234681303511,\n",
              " 15761.771772208553,\n",
              " 15761.060932057111,\n",
              " 15760.278277817384,\n",
              " 15759.36189266467,\n",
              " 15759.186526153526,\n",
              " 15759.155608169109,\n",
              " 15758.977537799237,\n",
              " 15758.873255146822,\n",
              " 15758.972845511833,\n",
              " 15759.067522920299,\n",
              " 15759.369356671976,\n",
              " 15759.148698120756,\n",
              " 15759.00842594399,\n",
              " 15758.153639366321,\n",
              " 15758.405571812165,\n",
              " 15758.583542556056,\n",
              " 15758.627044456844,\n",
              " 15758.701744449878,\n",
              " 15758.59553497325,\n",
              " 15758.55061592899,\n",
              " 15758.290500917445,\n",
              " 15757.923948300215,\n",
              " 15757.943406890496,\n",
              " 15758.007194469712,\n",
              " 15758.263842063996,\n",
              " 15759.127980248459,\n",
              " 15760.36074719301,\n",
              " 15760.0886898179,\n",
              " 15759.307298349506,\n",
              " 15758.830179664477,\n",
              " 15758.376344100416,\n",
              " 15758.042722201173,\n",
              " 15758.032459281367,\n",
              " 15758.038040742676,\n",
              " 15758.37574875096,\n",
              " 15759.227025077005,\n",
              " 15760.987234941545,\n",
              " 15763.11551828369,\n",
              " 15766.470085181116,\n",
              " 15769.486285431838,\n",
              " 15773.48163002892,\n",
              " 15779.519575774984,\n",
              " 15785.134582885186,\n",
              " 15785.121193177523,\n",
              " 15784.91881491076,\n",
              " 15784.963412577006,\n",
              " 15785.423475727395,\n",
              " 15785.587424114587,\n",
              " 15786.125689628594,\n",
              " 15787.106476419931,\n",
              " 15788.678737060169,\n",
              " 15792.508515821819,\n",
              " 15796.125409866723,\n",
              " 15797.851765878706,\n",
              " 15798.799101442408,\n",
              " 15798.670596185808]"
            ]
          },
          "metadata": {
            "tags": []
          },
          "execution_count": 13
        }
      ]
    },
    {
      "cell_type": "code",
      "metadata": {
        "colab": {
          "base_uri": "https://localhost:8080/"
        },
        "id": "Jtm016H1S-2g",
        "outputId": "dff7248f-9116-4594-bb8c-9ed49b80b2ba"
      },
      "source": [
        "upper_bound"
      ],
      "execution_count": null,
      "outputs": [
        {
          "output_type": "execute_result",
          "data": {
            "text/plain": [
              "[15836.603409303316,\n",
              " 15836.33447161711,\n",
              " 15836.638094545508,\n",
              " 15836.251864112712,\n",
              " 15836.05908844283,\n",
              " 15836.176123822304,\n",
              " 15835.91903164107,\n",
              " 15835.307494046254,\n",
              " 15830.598035597648,\n",
              " 15823.664597277597,\n",
              " 15809.108667232013,\n",
              " 15796.830137000214,\n",
              " 15793.348371647568,\n",
              " 15792.461616560804,\n",
              " 15791.723558032105,\n",
              " 15791.046727098013,\n",
              " 15790.228618853664,\n",
              " 15790.975389872852,\n",
              " 15795.49145191434,\n",
              " 15797.282347001874,\n",
              " 15797.068200521491,\n",
              " 15794.176950636569,\n",
              " 15794.169102894773,\n",
              " 15793.574140331753,\n",
              " 15797.225738434083,\n",
              " 15800.83359584122,\n",
              " 15799.115424382124,\n",
              " 15795.194480764772,\n",
              " 15790.169399841543,\n",
              " 15787.799449650509,\n",
              " 15788.87715567551,\n",
              " 15791.089413401329,\n",
              " 15796.222515327574,\n",
              " 15799.46297916795,\n",
              " 15805.2644888878,\n",
              " 15810.740796649101,\n",
              " 15813.813271982279,\n",
              " 15814.864219407531,\n",
              " 15814.97729278932,\n",
              " 15815.117653763155,\n",
              " 15815.31041908541,\n",
              " 15815.572212939107,\n",
              " 15815.87221119039,\n",
              " 15816.167379085653,\n",
              " 15816.464575356245,\n",
              " 15816.808215201265,\n",
              " 15817.08681576529,\n",
              " 15818.323772054497,\n",
              " 15821.353220274468,\n",
              " 15829.719072995154,\n",
              " 15839.890117552643,\n",
              " 15848.37788347555,\n",
              " 15856.360572270358,\n",
              " 15863.223139700262,\n",
              " 15869.211622952023,\n",
              " 15872.489306387022,\n",
              " 15872.55622496534,\n",
              " 15873.394346089806,\n",
              " 15873.873037373334,\n",
              " 15874.590423360762]"
            ]
          },
          "metadata": {
            "tags": []
          },
          "execution_count": 14
        }
      ]
    },
    {
      "cell_type": "code",
      "metadata": {
        "id": "gS7uZNLES-0_"
      },
      "source": [
        ""
      ],
      "execution_count": null,
      "outputs": []
    },
    {
      "cell_type": "code",
      "metadata": {
        "colab": {
          "base_uri": "https://localhost:8080/"
        },
        "id": "zzQnZcYdXcAZ",
        "outputId": "a11a9044-ce58-4811-b97b-f2f24f2fa251"
      },
      "source": [
        "test_cutoff_date"
      ],
      "execution_count": null,
      "outputs": [
        {
          "output_type": "execute_result",
          "data": {
            "text/plain": [
              "Timestamp('2020-08-22 00:00:00')"
            ]
          },
          "metadata": {
            "tags": []
          },
          "execution_count": 30
        }
      ]
    },
    {
      "cell_type": "code",
      "metadata": {
        "colab": {
          "base_uri": "https://localhost:8080/",
          "height": 407
        },
        "id": "Q9DZD8xzWMUi",
        "outputId": "90473dea-6e06-406c-dc18-2d38b98d527e"
      },
      "source": [
        "import matplotlib.pyplot as plt\n",
        "fig = plt.figure(figsize = (12,6))\n",
        "ax = fig.add_subplot(111)\n",
        "\n",
        "\n",
        "df['Close'].plot(ax=ax)\n",
        "ax.vlines('2020-08-22', 0, 1000, linestyle='--', color='r', label='forecast boundary')\n",
        "ax.fill_between(df_test[30:].index, lower_bound, upper_bound, color='b', alpha=0.1, label='95% Confidence Interval')\n",
        "ax.plot(df_test[30:].index, median, label='Prediction')\n",
        "ax.legend(loc='upper left')\n",
        "# plt.suptitle(f\"ARIMA {optimal[0][0]} Prediction Result (r2 score: {r2}\")\n",
        "# plt.show()"
      ],
      "execution_count": null,
      "outputs": [
        {
          "output_type": "execute_result",
          "data": {
            "text/plain": [
              "<matplotlib.legend.Legend at 0x7fab59ba1150>"
            ]
          },
          "metadata": {
            "tags": []
          },
          "execution_count": 15
        },
        {
          "output_type": "display_data",
          "data": {
            "image/png": "[encoded data removed]",
            "text/plain": [
              "<Figure size 864x432 with 1 Axes>"
            ]
          },
          "metadata": {
            "tags": [],
            "needs_background": "light"
          }
        }
      ]
    },
    {
      "cell_type": "code",
      "metadata": {
        "id": "0zQjxQjwXtIS"
      },
      "source": [
        ""
      ],
      "execution_count": null,
      "outputs": []
    }
  ]
}